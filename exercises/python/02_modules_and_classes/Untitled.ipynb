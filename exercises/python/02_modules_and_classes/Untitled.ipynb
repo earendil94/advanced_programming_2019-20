{
 "cells": [
  {
   "cell_type": "code",
   "execution_count": 3,
   "metadata": {},
   "outputs": [],
   "source": [
    "def orderedList(*word_list):\n",
    "    ret = sorted(word_list, key=lambda word:word[::-1])\n",
    "    return ret"
   ]
  },
  {
   "cell_type": "code",
   "execution_count": 6,
   "metadata": {},
   "outputs": [
    {
     "data": {
      "text/plain": [
       "['Claudia', 'Alice', 'Ettore', 'Nick', 'Mum', 'Francesco']"
      ]
     },
     "execution_count": 6,
     "metadata": {},
     "output_type": "execute_result"
    }
   ],
   "source": [
    "orderedList(\"Alice\",\"Claudia\",\"Nick\",\"Francesco\",\"Ettore\",\"Mum\")"
   ]
  },
  {
   "cell_type": "code",
   "execution_count": 42,
   "metadata": {},
   "outputs": [],
   "source": [
    "class Sequence():\n",
    "    def __init__(self,iterable):\n",
    "        self._list = []\n",
    "        for i in iterable:\n",
    "            self._list.append(i)\n",
    "            \n",
    "    def __str__(self):\n",
    "        st = '[ '\n",
    "        for i in self._list:\n",
    "            st += str(i)\n",
    "            if i != self._list[-1]:\n",
    "                st += ', '\n",
    "        st += ' ]'\n",
    "        return st\n",
    "    \n",
    "    def __len__(self):\n",
    "        return len(self._list)\n",
    "    \n",
    "    def __eq__(self,other):\n",
    "        if len(self) != len(other):\n",
    "            return False\n",
    "        \n",
    "        for i in range(len(self)):\n",
    "            if self._list[i] != other._list[i]:\n",
    "                return False\n",
    "        \n",
    "        return True\n",
    "    \n",
    "    def "
   ]
  },
  {
   "cell_type": "code",
   "execution_count": 43,
   "metadata": {},
   "outputs": [
    {
     "name": "stdout",
     "output_type": "stream",
     "text": [
      "[ 0, 1, 2, 3, 4, 5, 6, 7, 8, 9 ]\n",
      "10\n",
      "False\n",
      "True\n"
     ]
    }
   ],
   "source": [
    "s = Sequence(range(10))\n",
    "print(s)\n",
    "print(len(s))\n",
    "k = Sequence(range(5))\n",
    "os = Sequence(range(10))\n",
    "print(s == k)\n",
    "print(s == os)"
   ]
  },
  {
   "cell_type": "code",
   "execution_count": null,
   "metadata": {},
   "outputs": [],
   "source": []
  }
 ],
 "metadata": {
  "kernelspec": {
   "display_name": "Python 3",
   "language": "python",
   "name": "python3"
  },
  "language_info": {
   "codemirror_mode": {
    "name": "ipython",
    "version": 3
   },
   "file_extension": ".py",
   "mimetype": "text/x-python",
   "name": "python",
   "nbconvert_exporter": "python",
   "pygments_lexer": "ipython3",
   "version": "3.6.9"
  }
 },
 "nbformat": 4,
 "nbformat_minor": 4
}
