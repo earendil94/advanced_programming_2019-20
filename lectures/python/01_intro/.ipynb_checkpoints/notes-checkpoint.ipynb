{
 "cells": [
  {
   "cell_type": "markdown",
   "metadata": {},
   "source": [
    "Python is almost 30 years old\n",
    "\n",
    "It runs on a virtual machine (just like java)\n",
    "\n",
    "Developed by Van Rossum based on language ABC (indentation idea comes from that)\n",
    "\n",
    "Fluent python\n",
    "\n",
    "Linux sees the first bytes to understand which file we are dealing with. The #! (shabang) tells bash to run the command that follows the ! with a parameter which is the name of the file.\n",
    "\n",
    "Command file in linux actually tells you the type of file you are dealing with."
   ]
  }
 ],
 "metadata": {
  "kernelspec": {
   "display_name": "Python 3",
   "language": "python",
   "name": "python3"
  },
  "language_info": {
   "codemirror_mode": {
    "name": "ipython",
    "version": 3
   },
   "file_extension": ".py",
   "mimetype": "text/x-python",
   "name": "python",
   "nbconvert_exporter": "python",
   "pygments_lexer": "ipython3",
   "version": "3.7.4"
  }
 },
 "nbformat": 4,
 "nbformat_minor": 2
}
