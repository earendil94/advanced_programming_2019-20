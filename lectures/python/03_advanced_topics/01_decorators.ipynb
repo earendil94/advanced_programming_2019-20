{
 "cells": [
  {
   "cell_type": "markdown",
   "metadata": {},
   "source": [
    "##  Decorators"
   ]
  },
  {
   "cell_type": "code",
   "execution_count": 2,
   "metadata": {},
   "outputs": [
    {
     "name": "stdout",
     "output_type": "stream",
     "text": [
      "apply decorate1\n",
      "hello, world!\n"
     ]
    }
   ],
   "source": [
    "def decorate1(func):\n",
    "    def inner():\n",
    "        print(\"apply decorate1\")\n",
    "        func()\n",
    "    return inner\n",
    "\n",
    "@decorate1\n",
    "def hello():\n",
    "    print(\"hello, world!\")\n",
    "        \n",
    "hello()"
   ]
  },
  {
   "cell_type": "code",
   "execution_count": 3,
   "metadata": {},
   "outputs": [
    {
     "name": "stdout",
     "output_type": "stream",
     "text": [
      "apply decorate1\n",
      "hello, world!\n"
     ]
    }
   ],
   "source": [
    "%reset -sf \n",
    "def decorate1(func):\n",
    "    def inner():\n",
    "        print(\"apply decorate1\")\n",
    "        func()\n",
    "    return inner\n",
    "\n",
    "def hello():\n",
    "    print(\"hello, world!\")\n",
    "\n",
    "#A decorator in python is a function that have as an argument another function.\n",
    "#It defines an inner function that has the same argument of the function that will be used as argument for decorator\n",
    "#e.g. inner and hello have the same amount of arguments.\n",
    "#functions are objects in python so we can return them. \n",
    "#the below call is the same as @decorate\n",
    "\n",
    "hello = decorate1(hello)\n",
    "hello()"
   ]
  },
  {
   "cell_type": "code",
   "execution_count": 4,
   "metadata": {},
   "outputs": [
    {
     "name": "stdout",
     "output_type": "stream",
     "text": [
      "apply decorate1\n",
      "apply decorate2\n",
      "hello, world!\n"
     ]
    }
   ],
   "source": [
    "def decorate2(func):\n",
    "    def inner():\n",
    "        print(\"apply decorate2\")\n",
    "        func()\n",
    "    return inner\n",
    "\n",
    "@decorate1\n",
    "@decorate2\n",
    "def hello12():\n",
    "    print(\"hello, world!\")\n",
    "hello12() # same as hello12 = decorate1(decorate2(hello12))"
   ]
  },
  {
   "cell_type": "code",
   "execution_count": 5,
   "metadata": {
    "jupyter": {
     "outputs_hidden": true
    }
   },
   "outputs": [
    {
     "name": "stdout",
     "output_type": "stream",
     "text": [
      "apply decorate2\n",
      "apply decorate1\n",
      "hello, world!\n"
     ]
    }
   ],
   "source": [
    "@decorate2\n",
    "@decorate1\n",
    "def hello21():\n",
    "    print(\"hello, world!\") \n",
    "hello21() # same as hello21 = decorate2(decorate1(hello21))"
   ]
  },
  {
   "cell_type": "markdown",
   "metadata": {},
   "source": [
    "###  How to pass arguments to the inner function"
   ]
  },
  {
   "cell_type": "code",
   "execution_count": 1,
   "metadata": {},
   "outputs": [
    {
     "name": "stdout",
     "output_type": "stream",
     "text": [
      "wait(0.3): [0.30065370 s]\n",
      "factorial(1): [0.00000530 s]\n",
      "factorial(2): [0.00014030 s]\n",
      "factorial(3): [0.00024630 s]\n",
      "factorial(4): [0.00032940 s]\n",
      "factorial(5): [0.00053610 s]\n",
      "factorial(6): [0.00098630 s]\n",
      "factorial(7): [0.00107220 s]\n",
      "factorial(8): [0.00114200 s]\n",
      "factorial(9): [0.00127890 s]\n",
      "factorial(10): [0.00142230 s]\n",
      "sum(4,5): [0.00000530 s]\n",
      "dummy(pos,second,a=a, b=b): [0.00000600 s]\n"
     ]
    }
   ],
   "source": [
    "#adapted from Fluent Python\n",
    "import functools\n",
    "def args_to_string(*args,**kw):\n",
    "    arg_str = ()\n",
    "    if args:\n",
    "        arg_str += (','.join(str(arg) for arg in args)),\n",
    "    if kw:\n",
    "        arg_str += (', '.join(('{0}={1}'.format(k,v) for k,v in kw.items()))),\n",
    "    return ','.join(a for a in arg_str)\n",
    "\n",
    "import time\n",
    "def time_this(func):\n",
    "    def decorated(*args,**kw):\n",
    "        t0 = time.perf_counter()\n",
    "        result = func(*args,**kw)\n",
    "        t1 = time.perf_counter()\n",
    "        name = func.__name__\n",
    "        arg_str = args_to_string(*args,**kw)\n",
    "        #print('{0}({1}): [{2}]'.format(name, arg_str,t1-t0))\n",
    "        #print('{}({}): [{}]'.format(name, arg_str,t1-t0))\n",
    "        print('%s(%s): [%0.8f s]' % (name, arg_str, t1-t0))\n",
    "        return result\n",
    "    return decorated\n",
    "\n",
    "@time_this\n",
    "def wait(seconds):\n",
    "    time.sleep(seconds)\n",
    "\n",
    "#This one is a parametrized decorator: you can pass argument to it. Now we are using the default value.\n",
    "#It caches the argument (as key) and the result (as value) of the function you are calling.\n",
    "#This means that you don't go through the computation once you've already done it.\n",
    "\n",
    "@functools.lru_cache() # <-- note () # parametrized decorators\n",
    "@time_this\n",
    "def factorial(n):\n",
    "    return 1 if n < 2 else n*factorial(n-1)\n",
    "\n",
    "@time_this\n",
    "def sum(a,b):\n",
    "    return a+b\n",
    "\n",
    "@time_this\n",
    "def dummy(*args, **kw):\n",
    "    a = args\n",
    "    b = kw\n",
    "\n",
    "wait(0.3)\n",
    "factorial(10)\n",
    "sum(4,5)\n",
    "dummy('pos', 'second', a='a', b='b')"
   ]
  },
  {
   "cell_type": "code",
   "execution_count": 2,
   "metadata": {},
   "outputs": [
    {
     "data": {
      "text/plain": [
       "3628800"
      ]
     },
     "execution_count": 2,
     "metadata": {},
     "output_type": "execute_result"
    }
   ],
   "source": [
    "#You are not actually calling the function factorial: you are yielding the result which is already in the cache.\n",
    "#That's why you don't get the decorator output also\n",
    "factorial(10)"
   ]
  },
  {
   "cell_type": "code",
   "execution_count": 3,
   "metadata": {
    "jupyter": {
     "outputs_hidden": true
    }
   },
   "outputs": [
    {
     "name": "stdout",
     "output_type": "stream",
     "text": [
      "going to sleep for 0.4 seconds\n",
      "woke up!\n",
      "wait(0.4): [0.40123030 s]\n"
     ]
    }
   ],
   "source": [
    "import time\n",
    "def parametrized_time_this(check=True):\n",
    "    def decorator(func):\n",
    "        if not check:\n",
    "            return func\n",
    "        def decorated(*args,**kw):\n",
    "            t0 = time.perf_counter()\n",
    "            result = func(*args,**kw)\n",
    "            t1 = time.perf_counter()\n",
    "            name = func.__name__\n",
    "            arg_str = args_to_string(*args,**kw)\n",
    "            print('%s(%s): [%0.8f s]' % (name, arg_str, t1-t0))\n",
    "            return result\n",
    "        return decorated\n",
    "    return decorator # <-- returns the actual decorator\n",
    "   \n",
    "#We actually have a function here: the function returns a decorator. This way we can have multiple\n",
    "#behaviour of a decorator (such as don't decorate anything)\n",
    "@parametrized_time_this(True)\n",
    "def wait(seconds):\n",
    "    print('going to sleep for', seconds,'seconds')\n",
    "    time.sleep(seconds)\n",
    "    print('woke up!')\n",
    "\n",
    "wait(0.4)"
   ]
  },
  {
   "cell_type": "markdown",
   "metadata": {},
   "source": [
    "### Decorators as function objects"
   ]
  },
  {
   "cell_type": "code",
   "execution_count": 4,
   "metadata": {
    "jupyter": {
     "outputs_hidden": true
    }
   },
   "outputs": [
    {
     "name": "stdout",
     "output_type": "stream",
     "text": [
      "going to sleep for 0.4 seconds\n",
      "woke up!\n",
      "wait(0.4): [0.40106310 s]\n"
     ]
    }
   ],
   "source": [
    "import time\n",
    "class TimeThis():\n",
    "    def __init__(self, func):           # <--\n",
    "        self._func = func               # <--\n",
    "        \n",
    "    def __call__(self, *args, **kw):\n",
    "        t0 = time.perf_counter()\n",
    "        result = self._func(*args,**kw) # <--\n",
    "        t1 = time.perf_counter()\n",
    "        name = self._func.__name__      # <--\n",
    "        arg_str = args_to_string(*args,**kw)\n",
    "        print('%s(%s): [%0.8f s]' % (name, arg_str, t1-t0))\n",
    "        return result\n",
    "\n",
    "@TimeThis\n",
    "def wait(seconds):\n",
    "    print('going to sleep for', seconds,'seconds')\n",
    "    time.sleep(seconds)\n",
    "    print('woke up!')\n",
    "\n",
    "wait(0.4)"
   ]
  },
  {
   "cell_type": "code",
   "execution_count": 7,
   "metadata": {
    "jupyter": {
     "outputs_hidden": true
    }
   },
   "outputs": [
    {
     "name": "stdout",
     "output_type": "stream",
     "text": [
      "going to sleep for 0.4 seconds\n",
      "woke up!\n",
      "wrapper(0.4): [0.40174840 s]\n",
      "I'll be a long time gone\n",
      "joking, LOL\n"
     ]
    }
   ],
   "source": [
    "class ParametrizedTimeThis():\n",
    "    def __init__(self, check=True):\n",
    "        self.check = check\n",
    "    def __call__(self,func):\n",
    "        if self.check:\n",
    "            #return TimeThis(func)\n",
    "            @TimeThis\n",
    "            def wrapper(*args,**kwargs):\n",
    "                return func(*args,**kwargs)\n",
    "            return wrapper\n",
    "        return func\n",
    "        \n",
    "@ParametrizedTimeThis(True)\n",
    "def wait(seconds):\n",
    "    print('going to sleep for', seconds,'seconds')\n",
    "    time.sleep(seconds)\n",
    "    print('woke up!')\n",
    "\n",
    "wait(0.4)\n",
    "\n",
    "@ParametrizedTimeThis(False)\n",
    "def waitMe(seconds):\n",
    "    print(\"I'll be a long time gone\")\n",
    "    time.sleep(seconds)\n",
    "    print('joking, LOL')\n",
    "    \n",
    "waitMe(0.7)"
   ]
  },
  {
   "cell_type": "code",
   "execution_count": 8,
   "metadata": {
    "jupyter": {
     "outputs_hidden": true
    }
   },
   "outputs": [
    {
     "name": "stdout",
     "output_type": "stream",
     "text": [
      "wrapper(0.4): [0.00000460 s]\n"
     ]
    }
   ],
   "source": [
    "PTT = ParametrizedTimeThis(True)\n",
    "#Apply the sticky note PTT\n",
    "\n",
    "@PTT\n",
    "def dummy(*args,**kw):\n",
    "    pass\n",
    "\n",
    "dummy(0.4)"
   ]
  },
  {
   "cell_type": "code",
   "execution_count": null,
   "metadata": {},
   "outputs": [],
   "source": []
  }
 ],
 "metadata": {
  "kernelspec": {
   "display_name": "Python 3",
   "language": "python",
   "name": "python3"
  },
  "language_info": {
   "codemirror_mode": {
    "name": "ipython",
    "version": 3
   },
   "file_extension": ".py",
   "mimetype": "text/x-python",
   "name": "python",
   "nbconvert_exporter": "python",
   "pygments_lexer": "ipython3",
   "version": "3.6.9"
  }
 },
 "nbformat": 4,
 "nbformat_minor": 4
}
